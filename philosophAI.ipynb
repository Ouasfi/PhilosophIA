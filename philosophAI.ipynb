{
  "nbformat": 4,
  "nbformat_minor": 0,
  "metadata": {
    "colab": {
      "name": "philosophy-IA.ipynb",
      "provenance": [],
      "collapsed_sections": [],
      "include_colab_link": true
    },
    "language_info": {
      "codemirror_mode": {
        "name": "ipython",
        "version": 3
      },
      "file_extension": ".py",
      "mimetype": "text/x-python",
      "name": "python",
      "nbconvert_exporter": "python",
      "pygments_lexer": "ipython3",
      "version": "3.7.1"
    },
    "kernelspec": {
      "name": "python3",
      "display_name": "Python 3"
    },
    "accelerator": "GPU"
  },
  "cells": [
    {
      "cell_type": "markdown",
      "metadata": {
        "id": "view-in-github",
        "colab_type": "text"
      },
      "source": [
        "<a href=\"https://colab.research.google.com/github/Ouasfi/PhilosophIA/blob/master/philosophAI.ipynb\" target=\"_parent\"><img src=\"https://colab.research.google.com/assets/colab-badge.svg\" alt=\"Open In Colab\"/></a>"
      ]
    },
    {
      "cell_type": "markdown",
      "metadata": {
        "id": "gDNbHjbbmMTP",
        "colab_type": "text"
      },
      "source": [
        "# Text generation using AWD_LSTM model \n"
      ]
    },
    {
      "cell_type": "markdown",
      "metadata": {
        "id": "rrZafI9jmdsL",
        "colab_type": "text"
      },
      "source": [
        "### Data preparation"
      ]
    },
    {
      "cell_type": "code",
      "metadata": {
        "id": "_zXN-hnTDLz-",
        "colab_type": "code",
        "outputId": "db9e1aea-9c82-4290-d0d8-0e18b3253f49",
        "colab": {
          "base_uri": "https://localhost:8080/",
          "height": 189
        }
      },
      "source": [
        "from google.colab import drive\n",
        "drive.mount('/gdrive')\n",
        "%cd /gdrive"
      ],
      "execution_count": 0,
      "outputs": [
        {
          "output_type": "stream",
          "text": [
            "Go to this URL in a browser: https://accounts.google.com/o/oauth2/auth?client_id=947318989803-6bn6qk8qdgf4n4g3pfee6491hc0brc4i.apps.googleusercontent.com&redirect_uri=urn%3Aietf%3Awg%3Aoauth%3A2.0%3Aoob&scope=email%20https%3A%2F%2Fwww.googleapis.com%2Fauth%2Fdocs.test%20https%3A%2F%2Fwww.googleapis.com%2Fauth%2Fdrive%20https%3A%2F%2Fwww.googleapis.com%2Fauth%2Fdrive.photos.readonly%20https%3A%2F%2Fwww.googleapis.com%2Fauth%2Fpeopleapi.readonly&response_type=code\n",
            "\n",
            "Enter your authorization code:\n",
            "··········\n",
            "Mounted at /gdrive\n",
            "/gdrive\n"
          ],
          "name": "stdout"
        }
      ]
    },
    {
      "cell_type": "code",
      "metadata": {
        "id": "yRhC9SHjDOgG",
        "colab_type": "code",
        "outputId": "350cbe4c-6466-47ec-c30f-52d4647ea388",
        "colab": {
          "base_uri": "https://localhost:8080/",
          "height": 34
        }
      },
      "source": [
        "cd Philosophie_generator/"
      ],
      "execution_count": 0,
      "outputs": [
        {
          "output_type": "stream",
          "text": [
            "/gdrive/My Drive/Colab Notebooks/Philosophie_generator\n"
          ],
          "name": "stdout"
        }
      ]
    },
    {
      "cell_type": "code",
      "metadata": {
        "id": "D-1J6QjSeKdE",
        "colab_type": "code",
        "outputId": "0516f581-0483-4779-e5a0-0587c84d4871",
        "colab": {
          "base_uri": "https://localhost:8080/",
          "height": 51
        }
      },
      "source": [
        "cd My\\ Drive/Colab\\ Notebooks\n"
      ],
      "execution_count": 0,
      "outputs": [
        {
          "output_type": "stream",
          "text": [
            "[Errno 2] No such file or directory: 'My Drive/Colab Notebooks'\n",
            "/gdrive/My Drive/Colab Notebooks\n"
          ],
          "name": "stdout"
        }
      ]
    },
    {
      "cell_type": "code",
      "metadata": {
        "id": "yH8QrytQC0KM",
        "colab_type": "code",
        "colab": {}
      },
      "source": [
        "from fastai import *\n",
        "from fastai.text import * "
      ],
      "execution_count": 0,
      "outputs": []
    },
    {
      "cell_type": "code",
      "metadata": {
        "id": "-FzvmdzzC0KZ",
        "colab_type": "code",
        "colab": {}
      },
      "source": [
        "import pandas as pd"
      ],
      "execution_count": 0,
      "outputs": []
    },
    {
      "cell_type": "code",
      "metadata": {
        "id": "GSfSONB-C0Kh",
        "colab_type": "code",
        "colab": {}
      },
      "source": [
        "import numpy as np"
      ],
      "execution_count": 0,
      "outputs": []
    },
    {
      "cell_type": "code",
      "metadata": {
        "id": "hqYYWcaNC0Kp",
        "colab_type": "code",
        "outputId": "a220b93f-2dd9-4f14-bf6d-af8f36ca46fc",
        "colab": {
          "base_uri": "https://localhost:8080/",
          "height": 111
        }
      },
      "source": [
        "df = pd.read_csv('data/quotes.csv', sep=r'\\<\\|\\>', header=None, names=['text', 'author'])"
      ],
      "execution_count": 0,
      "outputs": [
        {
          "output_type": "stream",
          "text": [
            "/usr/local/lib/python3.6/dist-packages/ipykernel_launcher.py:1: ParserWarning: Falling back to the 'python' engine because the 'c' engine does not support regex separators (separators > 1 char and different from '\\s+' are interpreted as regex); you can avoid this warning by specifying engine='python'.\n",
            "  \"\"\"Entry point for launching an IPython kernel.\n"
          ],
          "name": "stderr"
        }
      ]
    },
    {
      "cell_type": "code",
      "metadata": {
        "id": "oSy8p3SKC0Kz",
        "colab_type": "code",
        "outputId": "ea4b5c51-5508-4c8a-99bc-e9baf6b72f26",
        "colab": {
          "base_uri": "https://localhost:8080/",
          "height": 204
        }
      },
      "source": [
        "df.head()"
      ],
      "execution_count": 0,
      "outputs": [
        {
          "output_type": "execute_result",
          "data": {
            "text/html": [
              "<div>\n",
              "<style scoped>\n",
              "    .dataframe tbody tr th:only-of-type {\n",
              "        vertical-align: middle;\n",
              "    }\n",
              "\n",
              "    .dataframe tbody tr th {\n",
              "        vertical-align: top;\n",
              "    }\n",
              "\n",
              "    .dataframe thead th {\n",
              "        text-align: right;\n",
              "    }\n",
              "</style>\n",
              "<table border=\"1\" class=\"dataframe\">\n",
              "  <thead>\n",
              "    <tr style=\"text-align: right;\">\n",
              "      <th></th>\n",
              "      <th>text</th>\n",
              "      <th>author</th>\n",
              "    </tr>\n",
              "  </thead>\n",
              "  <tbody>\n",
              "    <tr>\n",
              "      <th>0</th>\n",
              "      <td>A serious and good philosophical work could be...</td>\n",
              "      <td>Wittgenstein</td>\n",
              "    </tr>\n",
              "    <tr>\n",
              "      <th>1</th>\n",
              "      <td>The limits of my language means the limits of ...</td>\n",
              "      <td>Wittgenstein</td>\n",
              "    </tr>\n",
              "    <tr>\n",
              "      <th>2</th>\n",
              "      <td>I don't know why we are here, but I'm pretty s...</td>\n",
              "      <td>Wittgenstein</td>\n",
              "    </tr>\n",
              "    <tr>\n",
              "      <th>3</th>\n",
              "      <td>Whereof one cannot speak, thereof one must be ...</td>\n",
              "      <td>Wittgenstein</td>\n",
              "    </tr>\n",
              "    <tr>\n",
              "      <th>4</th>\n",
              "      <td>Hell isn't other people. Hell is yourself.</td>\n",
              "      <td>Wittgenstein</td>\n",
              "    </tr>\n",
              "  </tbody>\n",
              "</table>\n",
              "</div>"
            ],
            "text/plain": [
              "                                                text        author\n",
              "0  A serious and good philosophical work could be...  Wittgenstein\n",
              "1  The limits of my language means the limits of ...  Wittgenstein\n",
              "2  I don't know why we are here, but I'm pretty s...  Wittgenstein\n",
              "3  Whereof one cannot speak, thereof one must be ...  Wittgenstein\n",
              "4         Hell isn't other people. Hell is yourself.  Wittgenstein"
            ]
          },
          "metadata": {
            "tags": []
          },
          "execution_count": 10
        }
      ]
    },
    {
      "cell_type": "code",
      "metadata": {
        "id": "wtmHFh3GEj4_",
        "colab_type": "code",
        "outputId": "1a1f8752-39a3-4a99-db32-cbdb2dc087df",
        "colab": {
          "base_uri": "https://localhost:8080/",
          "height": 173
        }
      },
      "source": [
        "df.describe()"
      ],
      "execution_count": 0,
      "outputs": [
        {
          "output_type": "execute_result",
          "data": {
            "text/html": [
              "<div>\n",
              "<style scoped>\n",
              "    .dataframe tbody tr th:only-of-type {\n",
              "        vertical-align: middle;\n",
              "    }\n",
              "\n",
              "    .dataframe tbody tr th {\n",
              "        vertical-align: top;\n",
              "    }\n",
              "\n",
              "    .dataframe thead th {\n",
              "        text-align: right;\n",
              "    }\n",
              "</style>\n",
              "<table border=\"1\" class=\"dataframe\">\n",
              "  <thead>\n",
              "    <tr style=\"text-align: right;\">\n",
              "      <th></th>\n",
              "      <th>text</th>\n",
              "      <th>author</th>\n",
              "    </tr>\n",
              "  </thead>\n",
              "  <tbody>\n",
              "    <tr>\n",
              "      <th>count</th>\n",
              "      <td>5130</td>\n",
              "      <td>5130</td>\n",
              "    </tr>\n",
              "    <tr>\n",
              "      <th>unique</th>\n",
              "      <td>5114</td>\n",
              "      <td>7</td>\n",
              "    </tr>\n",
              "    <tr>\n",
              "      <th>top</th>\n",
              "      <td>To confine our attention to terrestrial matter...</td>\n",
              "      <td>Nietzsche</td>\n",
              "    </tr>\n",
              "    <tr>\n",
              "      <th>freq</th>\n",
              "      <td>2</td>\n",
              "      <td>2063</td>\n",
              "    </tr>\n",
              "  </tbody>\n",
              "</table>\n",
              "</div>"
            ],
            "text/plain": [
              "                                                     text     author\n",
              "count                                                5130       5130\n",
              "unique                                               5114          7\n",
              "top     To confine our attention to terrestrial matter...  Nietzsche\n",
              "freq                                                    2       2063"
            ]
          },
          "metadata": {
            "tags": []
          },
          "execution_count": 11
        }
      ]
    },
    {
      "cell_type": "code",
      "metadata": {
        "id": "BUU_jI82C0K7",
        "colab_type": "code",
        "colab": {}
      },
      "source": [
        "df['text'] = df['text'].str.lower()"
      ],
      "execution_count": 0,
      "outputs": []
    },
    {
      "cell_type": "code",
      "metadata": {
        "id": "HPnPgB7GC0LC",
        "colab_type": "code",
        "colab": {}
      },
      "source": [
        "valid_pct = 0.05 #validation percent\n",
        "df = df.iloc[np.random.permutation(len(df))]\n",
        "cut = int(valid_pct * len(df)) + 1\n",
        "train_df, valid_df = df[cut:], df[:cut]"
      ],
      "execution_count": 0,
      "outputs": []
    },
    {
      "cell_type": "code",
      "metadata": {
        "id": "KarZuMb2C0LK",
        "colab_type": "code",
        "outputId": "b7dfd888-1e79-407a-c3b8-a767353744ae",
        "colab": {
          "base_uri": "https://localhost:8080/",
          "height": 34
        }
      },
      "source": [
        "len(train_df), len(valid_df)"
      ],
      "execution_count": 0,
      "outputs": [
        {
          "output_type": "execute_result",
          "data": {
            "text/plain": [
              "(4873, 257)"
            ]
          },
          "metadata": {
            "tags": []
          },
          "execution_count": 14
        }
      ]
    },
    {
      "cell_type": "code",
      "metadata": {
        "id": "-6kaGKhnC0LW",
        "colab_type": "code",
        "colab": {}
      },
      "source": [
        "nan_rows = df[df['text'].isnull()]"
      ],
      "execution_count": 0,
      "outputs": []
    },
    {
      "cell_type": "code",
      "metadata": {
        "id": "BTyvCneBC0Lh",
        "colab_type": "code",
        "outputId": "4525187b-87ee-48c9-fedb-ae0e47631916",
        "colab": {
          "base_uri": "https://localhost:8080/",
          "height": 49
        }
      },
      "source": [
        "\n",
        "nan_rows"
      ],
      "execution_count": 0,
      "outputs": [
        {
          "output_type": "execute_result",
          "data": {
            "text/html": [
              "<div>\n",
              "<style scoped>\n",
              "    .dataframe tbody tr th:only-of-type {\n",
              "        vertical-align: middle;\n",
              "    }\n",
              "\n",
              "    .dataframe tbody tr th {\n",
              "        vertical-align: top;\n",
              "    }\n",
              "\n",
              "    .dataframe thead th {\n",
              "        text-align: right;\n",
              "    }\n",
              "</style>\n",
              "<table border=\"1\" class=\"dataframe\">\n",
              "  <thead>\n",
              "    <tr style=\"text-align: right;\">\n",
              "      <th></th>\n",
              "      <th>text</th>\n",
              "      <th>author</th>\n",
              "    </tr>\n",
              "  </thead>\n",
              "  <tbody>\n",
              "  </tbody>\n",
              "</table>\n",
              "</div>"
            ],
            "text/plain": [
              "Empty DataFrame\n",
              "Columns: [text, author]\n",
              "Index: []"
            ]
          },
          "metadata": {
            "tags": []
          },
          "execution_count": 16
        }
      ]
    },
    {
      "cell_type": "code",
      "metadata": {
        "id": "4Aeg7WvaC0Lr",
        "colab_type": "code",
        "colab": {}
      },
      "source": [
        "data_lm = TextLMDataBunch.from_df('data', train_df, valid_df, text_cols='text',\n",
        "                           label_cols='author')"
      ],
      "execution_count": 0,
      "outputs": []
    },
    {
      "cell_type": "code",
      "metadata": {
        "id": "8kgAod_CC0Lx",
        "colab_type": "code",
        "colab": {}
      },
      "source": [
        "# data_clas = TextClasDataBunch.from_df('data', train_df, valid_df, text_cols='text', label_cols='author', vocab=data_lm.train_ds.vocab, bs=32)"
      ],
      "execution_count": 0,
      "outputs": []
    },
    {
      "cell_type": "code",
      "metadata": {
        "id": "psxe0QJ2FQg_",
        "colab_type": "code",
        "colab": {}
      },
      "source": [
        "help(TextLMDataBunch)"
      ],
      "execution_count": 0,
      "outputs": []
    },
    {
      "cell_type": "markdown",
      "metadata": {
        "id": "LFYIWNdomm8-",
        "colab_type": "text"
      },
      "source": [
        "## Model definition and trainig"
      ]
    },
    {
      "cell_type": "code",
      "metadata": {
        "id": "x-MiVXSbC0L2",
        "colab_type": "code",
        "outputId": "300cfb37-1c8d-440b-e96f-b23882fa81cc",
        "colab": {
          "base_uri": "https://localhost:8080/",
          "height": 95
        }
      },
      "source": [
        "learn = language_model_learner(data_lm, arch=AWD_LSTM, drop_mult=0.5)\n",
        "learn.fit_one_cycle(1, 1e-2)"
      ],
      "execution_count": 0,
      "outputs": [
        {
          "output_type": "display_data",
          "data": {
            "text/html": [
              "<table border=\"1\" class=\"dataframe\">\n",
              "  <thead>\n",
              "    <tr style=\"text-align: left;\">\n",
              "      <th>epoch</th>\n",
              "      <th>train_loss</th>\n",
              "      <th>valid_loss</th>\n",
              "      <th>accuracy</th>\n",
              "      <th>time</th>\n",
              "    </tr>\n",
              "  </thead>\n",
              "  <tbody>\n",
              "    <tr>\n",
              "      <td>0</td>\n",
              "      <td>5.088228</td>\n",
              "      <td>4.570608</td>\n",
              "      <td>0.225818</td>\n",
              "      <td>00:15</td>\n",
              "    </tr>\n",
              "  </tbody>\n",
              "</table>"
            ],
            "text/plain": [
              "<IPython.core.display.HTML object>"
            ]
          },
          "metadata": {
            "tags": []
          }
        }
      ]
    },
    {
      "cell_type": "code",
      "metadata": {
        "id": "QWmxEibUGLep",
        "colab_type": "code",
        "outputId": "8965c578-b950-4286-e3b1-df1c36aa9b60",
        "colab": {
          "base_uri": "https://localhost:8080/",
          "height": 34
        }
      },
      "source": [
        "learn.predict(\"I need\", n_words=30, temperature=0.8).replace(\"xxbos\",\"\")\n"
      ],
      "execution_count": 0,
      "outputs": [
        {
          "output_type": "execute_result",
          "data": {
            "text/plain": [
              "'I need to speak with a person who does not believe in nothing .  My readers are asked to keep . it is what i do , however , and'"
            ]
          },
          "metadata": {
            "tags": []
          },
          "execution_count": 27
        }
      ]
    },
    {
      "cell_type": "code",
      "metadata": {
        "id": "8kwUv9u3C0L8",
        "colab_type": "code",
        "outputId": "39ebe0c1-5bb5-4180-8c8f-32506f2cd184",
        "colab": {
          "base_uri": "https://localhost:8080/",
          "height": 95
        }
      },
      "source": [
        "learn.unfreeze()\n",
        "learn.fit_one_cycle(1, 1e-3)"
      ],
      "execution_count": 0,
      "outputs": [
        {
          "output_type": "display_data",
          "data": {
            "text/html": [
              "<table border=\"1\" class=\"dataframe\">\n",
              "  <thead>\n",
              "    <tr style=\"text-align: left;\">\n",
              "      <th>epoch</th>\n",
              "      <th>train_loss</th>\n",
              "      <th>valid_loss</th>\n",
              "      <th>accuracy</th>\n",
              "      <th>time</th>\n",
              "    </tr>\n",
              "  </thead>\n",
              "  <tbody>\n",
              "    <tr>\n",
              "      <td>0</td>\n",
              "      <td>4.541966</td>\n",
              "      <td>4.302832</td>\n",
              "      <td>0.255952</td>\n",
              "      <td>00:19</td>\n",
              "    </tr>\n",
              "  </tbody>\n",
              "</table>"
            ],
            "text/plain": [
              "<IPython.core.display.HTML object>"
            ]
          },
          "metadata": {
            "tags": []
          }
        }
      ]
    },
    {
      "cell_type": "code",
      "metadata": {
        "id": "s_W6F-CmC0MD",
        "colab_type": "code",
        "colab": {}
      },
      "source": [
        "wd=1e-7\n",
        "lr=1e-3\n",
        "lrs = lr"
      ],
      "execution_count": 0,
      "outputs": []
    },
    {
      "cell_type": "code",
      "metadata": {
        "id": "GxQ9shK_C0MJ",
        "colab_type": "code",
        "outputId": "cf97ce02-9417-4a99-ea87-5069d9e520c2",
        "colab": {
          "base_uri": "https://localhost:8080/",
          "height": 374
        }
      },
      "source": [
        "learn.fit(10,lrs, wd)"
      ],
      "execution_count": 0,
      "outputs": [
        {
          "output_type": "display_data",
          "data": {
            "text/html": [
              "<table border=\"1\" class=\"dataframe\">\n",
              "  <thead>\n",
              "    <tr style=\"text-align: left;\">\n",
              "      <th>epoch</th>\n",
              "      <th>train_loss</th>\n",
              "      <th>valid_loss</th>\n",
              "      <th>accuracy</th>\n",
              "      <th>time</th>\n",
              "    </tr>\n",
              "  </thead>\n",
              "  <tbody>\n",
              "    <tr>\n",
              "      <td>0</td>\n",
              "      <td>4.318624</td>\n",
              "      <td>4.187274</td>\n",
              "      <td>0.266518</td>\n",
              "      <td>00:19</td>\n",
              "    </tr>\n",
              "    <tr>\n",
              "      <td>1</td>\n",
              "      <td>4.165323</td>\n",
              "      <td>4.116737</td>\n",
              "      <td>0.269196</td>\n",
              "      <td>00:19</td>\n",
              "    </tr>\n",
              "    <tr>\n",
              "      <td>2</td>\n",
              "      <td>4.024391</td>\n",
              "      <td>4.058914</td>\n",
              "      <td>0.278720</td>\n",
              "      <td>00:19</td>\n",
              "    </tr>\n",
              "    <tr>\n",
              "      <td>3</td>\n",
              "      <td>3.861655</td>\n",
              "      <td>4.018850</td>\n",
              "      <td>0.285119</td>\n",
              "      <td>00:19</td>\n",
              "    </tr>\n",
              "    <tr>\n",
              "      <td>4</td>\n",
              "      <td>3.702783</td>\n",
              "      <td>3.984146</td>\n",
              "      <td>0.286830</td>\n",
              "      <td>00:19</td>\n",
              "    </tr>\n",
              "    <tr>\n",
              "      <td>5</td>\n",
              "      <td>3.546835</td>\n",
              "      <td>3.963060</td>\n",
              "      <td>0.297619</td>\n",
              "      <td>00:19</td>\n",
              "    </tr>\n",
              "    <tr>\n",
              "      <td>6</td>\n",
              "      <td>3.401809</td>\n",
              "      <td>3.952606</td>\n",
              "      <td>0.299405</td>\n",
              "      <td>00:19</td>\n",
              "    </tr>\n",
              "    <tr>\n",
              "      <td>7</td>\n",
              "      <td>3.251131</td>\n",
              "      <td>3.939972</td>\n",
              "      <td>0.305804</td>\n",
              "      <td>00:19</td>\n",
              "    </tr>\n",
              "    <tr>\n",
              "      <td>8</td>\n",
              "      <td>3.102335</td>\n",
              "      <td>3.926567</td>\n",
              "      <td>0.313244</td>\n",
              "      <td>00:19</td>\n",
              "    </tr>\n",
              "    <tr>\n",
              "      <td>9</td>\n",
              "      <td>2.977050</td>\n",
              "      <td>3.927818</td>\n",
              "      <td>0.316518</td>\n",
              "      <td>00:19</td>\n",
              "    </tr>\n",
              "  </tbody>\n",
              "</table>"
            ],
            "text/plain": [
              "<IPython.core.display.HTML object>"
            ]
          },
          "metadata": {
            "tags": []
          }
        }
      ]
    },
    {
      "cell_type": "code",
      "metadata": {
        "id": "RvqQtsZKC0MR",
        "colab_type": "code",
        "outputId": "a4809c49-ea88-44c9-89cc-555f923c9a1b",
        "colab": {
          "base_uri": "https://localhost:8080/",
          "height": 34
        }
      },
      "source": [
        "learn.predict(\"My \", n_words=15, temperature=0.8).replace(\"xxbos\",\"\")\n"
      ],
      "execution_count": 0,
      "outputs": [
        {
          "output_type": "execute_result",
          "data": {
            "text/plain": [
              "'My  love for excess is what is most important about happiness : it is a burden'"
            ]
          },
          "metadata": {
            "tags": []
          },
          "execution_count": 130
        }
      ]
    },
    {
      "cell_type": "code",
      "metadata": {
        "id": "D6BSgYMYiHKI",
        "colab_type": "code",
        "colab": {}
      },
      "source": [
        "from random import *\n",
        "import re"
      ],
      "execution_count": 0,
      "outputs": []
    },
    {
      "cell_type": "code",
      "metadata": {
        "id": "kj_gceXEhXOl",
        "colab_type": "code",
        "colab": {}
      },
      "source": [
        "def update_init_w(idea, previous_word):\n",
        "  \n",
        "  words = idea.split(\" \")\n",
        "  \n",
        "  for k in range(0, len(words)):\n",
        "    i = randint(0, len(words)-1)\n",
        "    word = words[i]\n",
        "    if len(word) > 4 and word != previous_word:\n",
        "        return  word"
      ],
      "execution_count": 0,
      "outputs": []
    },
    {
      "cell_type": "code",
      "metadata": {
        "id": "XRctnUgeC0Mf",
        "colab_type": "code",
        "colab": {}
      },
      "source": [
        "def text_from_quotes ( init_word, n_words, temp, num_of_ideas):\n",
        "  number_of_ideas = num_of_ideas\n",
        "  ideas_counter = 0\n",
        "  all_ideas = []\n",
        "  inti_word = init_word\n",
        "\n",
        "  for i in range(number_of_ideas):\n",
        "    \n",
        "      \n",
        "      idea = learn.predict(init_word, n_words=n_words, temperature=temp)\n",
        "      idea = idea.replace(\"xxbos\",\"\")\n",
        "      idea.replace(\" . \", \". \").replace(\".  \", \". \")\n",
        "      idea.replace(\" .\", \". \").replace(\".  \", \". \")\n",
        "      all_ideas.append(idea)\n",
        "      previous_word = init_word \n",
        "      init_word = update_init_w(idea, previous_word)\n",
        "      \n",
        "  return all_ideas "
      ],
      "execution_count": 0,
      "outputs": []
    },
    {
      "cell_type": "code",
      "metadata": {
        "id": "MfZ8jFwrOM5l",
        "colab_type": "code",
        "colab": {}
      },
      "source": [
        "def IA_writing(filename, all_ideas):\n",
        "  quotes = open(filename, 'w')\n",
        "  for idea in all_ideas :\n",
        "    quotes.write(idea)\n",
        "  quotes.close()\n",
        "  \n",
        "  \n",
        "  "
      ],
      "execution_count": 0,
      "outputs": []
    },
    {
      "cell_type": "code",
      "metadata": {
        "id": "NhasfvdTrhYw",
        "colab_type": "code",
        "colab": {}
      },
      "source": [
        "all_ideas = text_from_quotes ( 'simple', 15, 0.8, 10)\n",
        "IA_writing('IA_philosophy.odt', all_ideas)"
      ],
      "execution_count": 0,
      "outputs": []
    },
    {
      "cell_type": "code",
      "metadata": {
        "id": "GhOoLyOgC0My",
        "colab_type": "code",
        "colab": {}
      },
      "source": [
        "learn.save_encoder('ft_enc')"
      ],
      "execution_count": 0,
      "outputs": []
    },
    {
      "cell_type": "code",
      "metadata": {
        "id": "W3YEzOLkC0M5",
        "colab_type": "code",
        "colab": {}
      },
      "source": [
        "train_df.to_pickle('data/train_df.pkl')"
      ],
      "execution_count": 0,
      "outputs": []
    },
    {
      "cell_type": "code",
      "metadata": {
        "id": "W-tI-uqKC0NE",
        "colab_type": "code",
        "colab": {}
      },
      "source": [
        "valid_df.to_pickle('data/valid_df.pkl')\n"
      ],
      "execution_count": 0,
      "outputs": []
    },
    {
      "cell_type": "code",
      "metadata": {
        "id": "UaNOqQpDbf47",
        "colab_type": "code",
        "colab": {}
      },
      "source": [
        "#learn = load_learner('./','ft_enc.pth')#"
      ],
      "execution_count": 0,
      "outputs": []
    },
    {
      "cell_type": "code",
      "metadata": {
        "id": "oKpUthH0bfN2",
        "colab_type": "code",
        "colab": {}
      },
      "source": [
        "#learn = learn.load('ft_enc')"
      ],
      "execution_count": 0,
      "outputs": []
    },
    {
      "cell_type": "code",
      "metadata": {
        "id": "9zTxdgRcQqda",
        "colab_type": "code",
        "outputId": "6d3313c0-d6c9-4a76-831c-23f866828106",
        "colab": {
          "base_uri": "https://localhost:8080/",
          "height": 90
        }
      },
      "source": [
        "ls"
      ],
      "execution_count": 0,
      "outputs": [
        {
          "output_type": "stream",
          "text": [
            " \u001b[0m\u001b[01;34mdata\u001b[0m/                     IA_philosophy.odt    'quotes (1).gdoc'   README.md\n",
            "'Generate text .ipynb'     litterature.txt       quotes.gdoc        w.txt\n",
            "'IA_philosophy (1).gdoc'   \u001b[01;34mmodels\u001b[0m/               quotes.odt\n",
            " IA_philosophy.gdoc        philosophy-AI.ipynb   quotes.txt\n"
          ],
          "name": "stdout"
        }
      ]
    },
    {
      "cell_type": "code",
      "metadata": {
        "id": "sf4EdJjBLlUT",
        "colab_type": "code",
        "outputId": "14f0e8e8-9f13-4399-ae0f-74b55bc056b9",
        "colab": {
          "base_uri": "https://localhost:8080/",
          "height": 54
        }
      },
      "source": [
        ""
      ],
      "execution_count": 0,
      "outputs": [
        {
          "output_type": "stream",
          "text": [
            "nothing is more profound than the stirring of hope .it is generally known , however , that a man has no greatness .patience is inevitable .at the heart of all beauty lies something absurd and solitary .for the most part , little is known about what the world is or where it lives .a sick conscience or a bad conscience might be offered to you as a prison .a true world is a fairy story for people .yes , i understand the moral , as the most natural and the most beautiful form of lifeif you believe in the idea of the self ? what is this capable of going beyond this ?i am too much in love with myself .i say that to know that we are capable of turning"
          ],
          "name": "stdout"
        }
      ]
    }
  ]
}